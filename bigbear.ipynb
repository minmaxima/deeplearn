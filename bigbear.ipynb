{
  "nbformat": 4,
  "nbformat_minor": 0,
  "metadata": {
    "colab": {
      "provenance": [],
      "mount_file_id": "1MPAlpUo1klt0FICMI7q25WZ-HMCmzlNV",
      "authorship_tag": "ABX9TyOZoFHGPxU0RG+yexZvqIws",
      "include_colab_link": true
    },
    "kernelspec": {
      "name": "python3",
      "display_name": "Python 3"
    },
    "language_info": {
      "name": "python"
    }
  },
  "cells": [
    {
      "cell_type": "markdown",
      "metadata": {
        "id": "view-in-github",
        "colab_type": "text"
      },
      "source": [
        "<a href=\"https://colab.research.google.com/github/minmaxima/deeplearn/blob/main/bigbear.ipynb\" target=\"_parent\"><img src=\"https://colab.research.google.com/assets/colab-badge.svg\" alt=\"Open In Colab\"/></a>"
      ]
    },
    {
      "cell_type": "markdown",
      "source": [
        "# New Section"
      ],
      "metadata": {
        "id": "1MFO9Q6Cncb5"
      }
    },
    {
      "cell_type": "code",
      "execution_count": 9,
      "metadata": {
        "colab": {
          "base_uri": "https://localhost:8080/"
        },
        "id": "OsWQbhPXeSR8",
        "outputId": "5757f42d-d76f-489f-ba78-35cc6b95af78"
      },
      "outputs": [
        {
          "output_type": "stream",
          "name": "stdout",
          "text": [
            "Authentication successful!\n",
            "Request successful!\n",
            "Response data written to 'response_data.json'\n",
            "Error making request: 'dict' object has no attribute 'json'\n"
          ]
        }
      ],
      "source": [
        "import os\n",
        "import json\n",
        "import requests\n",
        "import pandas as pd\n",
        "import ydata_profiling\n",
        "from ydata_profiling import ProfileReport\n",
        "\n",
        "\n",
        "class ImmutaClient:\n",
        "    def __init__(self, base_url, api_key_file):\n",
        "        self.base_url = base_url\n",
        "        self.api_key_file = api_key_file\n",
        "        self.bearer_token = None\n",
        "\n",
        "    def authenticate(self):\n",
        "        try:\n",
        "            with open(self.api_key_file, \"r\") as file:\n",
        "                api_key_data = json.load(file)\n",
        "                api_key = api_key_data.get(\"apikey\")\n",
        "\n",
        "            url = f\"{self.base_url}/bim/apikey/authenticate\"\n",
        "            headers = {\"Content-Type\": \"application/json\"}\n",
        "            payload = {\"apikey\": api_key}\n",
        "\n",
        "            response = requests.post(url, headers=headers, json=payload)\n",
        "            response.raise_for_status()\n",
        "\n",
        "            self.bearer_token = response.json().get(\"token\")\n",
        "            print(\"Authentication successful!\")\n",
        "        except Exception as e:\n",
        "            print(f\"Error authenticating: {e}\")\n",
        "\n",
        "    def make_request(self, method, endpoint, output_file):\n",
        "        try:\n",
        "            if not self.bearer_token:\n",
        "                print(\"Authentication required. Please authenticate first.\")\n",
        "                return\n",
        "\n",
        "            url = f\"{self.base_url}/{endpoint}\"\n",
        "            headers = {\n",
        "                \"Content-Type\": \"application/json\",\n",
        "                \"Authorization\": f\"Bearer {self.bearer_token}\"\n",
        "            }\n",
        "\n",
        "            response = requests.request(method, url, headers=headers)\n",
        "            response.raise_for_status()\n",
        "\n",
        "            print(\"Request successful!\")\n",
        "            #print(response.json())  # Print response data\n",
        "            response_data = response.json()\n",
        "\n",
        "            with open(output_file, \"w\") as file:\n",
        "              json.dump(response_data, file, indent=4)\n",
        "\n",
        "            print(f\"Response data written to '{output_file}'\")\n",
        "        except Exception as e:\n",
        "            print(f\"Error making request: {e}\")\n",
        "\n",
        "      def curl_request()\n",
        "\n",
        "\n",
        "\n",
        "if __name__ == \"__main__\":\n",
        "    base_url = \"https://i9t7agvudo6oxdbaag3ib6kt8b.hosted.staging.immutacloud.com\"\n",
        "    #base_url=\"https://starbursty.instance.immuta.com/\"\n",
        "\n",
        "    api_key_file = \"api_key.json\"  # Path to your API key file\n",
        "    client = ImmutaClient(base_url, api_key_file)\n",
        "    client.authenticate()\n",
        "    client.make_request(\"GET\", \"audit\",\"response_data.json\")  # Example request to the audit endpoint\n",
        "\n",
        "\n",
        "    # Example of reading from local file\n",
        "    #local_file_path = \"config.json\"\n",
        "    #client = ImmutaClient.from_local_file(local_file_path)\n",
        "\n",
        "    # Example of reading from cloud storage (pretend the file is stored in AWS S3)\n",
        "    #bucket_name = \"my-bucket\"\n",
        "    #file_path = \"config.json\"\n",
        "    #client = ImmutaClient.from_cloud_storage(\"AWS S3\", bucket_name, file_path)"
      ]
    }
  ]
}